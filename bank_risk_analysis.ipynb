{
  "nbformat": 4,
  "nbformat_minor": 0,
  "metadata": {
    "colab": {
      "name": "bank_risk_analysis",
      "provenance": [],
      "authorship_tag": "ABX9TyP9lM+rjHEAJoON7Z61EqOO",
      "include_colab_link": true
    },
    "kernelspec": {
      "name": "python3",
      "display_name": "Python 3"
    },
    "language_info": {
      "name": "python"
    },
    "accelerator": "GPU",
    "gpuClass": "standard"
  },
  "cells": [
    {
      "cell_type": "markdown",
      "metadata": {
        "id": "view-in-github",
        "colab_type": "text"
      },
      "source": [
        "<a href=\"https://colab.research.google.com/github/prajeet26/Bank_credit_risk_analysis/blob/main/bank_risk_analysis.ipynb\" target=\"_parent\"><img src=\"https://colab.research.google.com/assets/colab-badge.svg\" alt=\"Open In Colab\"/></a>"
      ]
    },
    {
      "cell_type": "code",
      "execution_count": null,
      "metadata": {
        "id": "lrSmhMHPDcgO"
      },
      "outputs": [],
      "source": [
        "from google.colab import drive\n",
        "drive.mount('/content/drive')"
      ]
    },
    {
      "cell_type": "code",
      "source": [
        "import pandas as pd\n",
        "import numpy as np\n",
        "import matplotlib.pyplot as plt\n",
        "import seaborn as sns\n",
        "from sklearn.feature_extraction.text import CountVectorizer, TfidfVectorizer\n",
        "from sklearn.decomposition import LatentDirichletAllocation, NMF\n",
        "from sklearn.metrics import f1_score, accuracy_score\n",
        "\n",
        "appl = pd.read_csv('/content/drive/MyDrive/applicant.csv')\n",
        "loan = pd.read_csv('/content/drive/MyDrive/loan.csv')"
      ],
      "metadata": {
        "id": "GWQr3uskEgTe"
      },
      "execution_count": null,
      "outputs": []
    },
    {
      "cell_type": "code",
      "source": [
        "appl.head()\n"
      ],
      "metadata": {
        "id": "CC4Rg6hGFA4Y"
      },
      "execution_count": null,
      "outputs": []
    },
    {
      "cell_type": "code",
      "source": [
        "loan.head()"
      ],
      "metadata": {
        "id": "9wPoDJc9FDYI"
      },
      "execution_count": null,
      "outputs": []
    },
    {
      "cell_type": "code",
      "source": [
        "appl.shape\n",
        "\n"
      ],
      "metadata": {
        "id": "g2sJaIi8Hm6F"
      },
      "execution_count": null,
      "outputs": []
    },
    {
      "cell_type": "code",
      "source": [
        "loan.shape"
      ],
      "metadata": {
        "id": "kR09PTHJIVcx"
      },
      "execution_count": null,
      "outputs": []
    },
    {
      "cell_type": "code",
      "source": [
        "appl.describe"
      ],
      "metadata": {
        "id": "lfctEqcVIXj0"
      },
      "execution_count": null,
      "outputs": []
    },
    {
      "cell_type": "code",
      "source": [
        "from tabulate import tabulate\n",
        "print(tabulate(appl.head(), headers = 'keys', tablefmt = 'psql'))"
      ],
      "metadata": {
        "id": "oiZlLnjJJcmm"
      },
      "execution_count": null,
      "outputs": []
    },
    {
      "cell_type": "code",
      "source": [
        "from tabulate import tabulate\n",
        "print(tabulate(loan.head(), headers = 'keys', tablefmt = 'psql'))"
      ],
      "metadata": {
        "id": "KBHjo0QjJ8Uy"
      },
      "execution_count": null,
      "outputs": []
    },
    {
      "cell_type": "code",
      "source": [
        "print(tabulate(appl.describe(), headers = 'keys', tablefmt = 'psql'))"
      ],
      "metadata": {
        "id": "o1hdvzp2KKDC"
      },
      "execution_count": null,
      "outputs": []
    },
    {
      "cell_type": "code",
      "source": [
        "appl.dtypes"
      ],
      "metadata": {
        "id": "wQtakgFfK1E2"
      },
      "execution_count": null,
      "outputs": []
    },
    {
      "cell_type": "code",
      "source": [
        "appl.isnull().sum()"
      ],
      "metadata": {
        "id": "UwyutZfnK5T7"
      },
      "execution_count": null,
      "outputs": []
    },
    {
      "cell_type": "code",
      "source": [
        "loan.drop([\"loan_application_id\"], axis = 1, inplace=True)"
      ],
      "metadata": {
        "id": "SvIRjRCZV2VY"
      },
      "execution_count": null,
      "outputs": []
    },
    {
      "cell_type": "code",
      "source": [
        "loan.sample(4)"
      ],
      "metadata": {
        "id": "6Sz0RaVIhDd7"
      },
      "execution_count": null,
      "outputs": []
    },
    {
      "cell_type": "code",
      "source": [
        "final=pd.merge(loan,appl,on=\"applicant_id\")"
      ],
      "metadata": {
        "id": "D8Iq3OTnhGyp"
      },
      "execution_count": null,
      "outputs": []
    },
    {
      "cell_type": "code",
      "source": [
        "final.head()"
      ],
      "metadata": {
        "id": "mTKyyVLqhV4s"
      },
      "execution_count": null,
      "outputs": []
    },
    {
      "cell_type": "code",
      "source": [
        "final.describe()"
      ],
      "metadata": {
        "id": "dY1YM5U1hfyf"
      },
      "execution_count": null,
      "outputs": []
    },
    {
      "cell_type": "code",
      "source": [
        "final['Principal_loan_amount']=final['Principal_loan_amount'].div(100000).round(2)#FOR CONVINIENCE MADE AMOUNT INTO LAKHS"
      ],
      "metadata": {
        "id": "gb1vzUbHiaVu"
      },
      "execution_count": null,
      "outputs": []
    },
    {
      "cell_type": "code",
      "source": [
        "final.describe()"
      ],
      "metadata": {
        "id": "a6IyZqTPjANn"
      },
      "execution_count": null,
      "outputs": []
    },
    {
      "cell_type": "code",
      "source": [
        "final.drop([\"applicant_id\"], axis = 1, inplace=True)"
      ],
      "metadata": {
        "id": "oLRlJK5gjI6X"
      },
      "execution_count": null,
      "outputs": []
    },
    {
      "cell_type": "code",
      "source": [
        "pd.options.display.max_columns = None"
      ],
      "metadata": {
        "id": "JS2KIGF4xak5"
      },
      "execution_count": null,
      "outputs": []
    },
    {
      "cell_type": "code",
      "source": [
        "final.sample(1)"
      ],
      "metadata": {
        "id": "3u0HdJWnj1Qe"
      },
      "execution_count": null,
      "outputs": []
    },
    {
      "cell_type": "code",
      "source": [
        "pd.unique(final['Loan_history'])"
      ],
      "metadata": {
        "id": "rRHV4Dgg0kSu"
      },
      "execution_count": null,
      "outputs": []
    },
    {
      "cell_type": "code",
      "source": [
        "pd.unique(final['Employment_status'])"
      ],
      "metadata": {
        "id": "iFaqNpE7y4Ry"
      },
      "execution_count": null,
      "outputs": []
    },
    {
      "cell_type": "code",
      "source": [
        "#FREQUENCY COUNT\n",
        "import matplotlib.ticker as ticker\n",
        "ncount=len(final)\n",
        "plt.figure(figsize=(12,8))\n",
        "ax = sns.countplot(x=\"high_risk_applicant\", data=final, order=[0,1])\n",
        "ax2=ax.twinx()\n",
        "ax2.yaxis.tick_left()\n",
        "ax.yaxis.tick_right()\n",
        "ax2.set_ylabel('Frequency [%]')\n",
        "for p in ax.patches:\n",
        "    x=p.get_bbox().get_points()[:,0]\n",
        "    y=p.get_bbox().get_points()[1,1]\n",
        "    ax.annotate('{:.1f}%'.format(100.*y/ncount), (x.mean(), y),ha='center', va='bottom')"
      ],
      "metadata": {
        "id": "WVoQXlFyUYO2"
      },
      "execution_count": null,
      "outputs": []
    },
    {
      "cell_type": "code",
      "source": [
        "#FREQUENCY COUNT\n",
        "import matplotlib.ticker as ticker\n",
        "ncount=len(final)\n",
        "plt.figure(figsize=(25,8))\n",
        "ax = sns.countplot(x=\"Loan_history\", data=final, order=['critical/pending loans at other banks',\n",
        "       'existing loans paid back duly till now',\n",
        "       'delay in paying off loans in the past',\n",
        "       'no loans taken/all loans paid back duly',\n",
        "       'all loans at this bank paid back duly'])\n",
        "ax2=ax.twinx()\n",
        "ax2.yaxis.tick_left()\n",
        "ax.yaxis.tick_right()\n",
        "ax2.set_ylabel('Frequency [%]')\n",
        "for p in ax.patches:\n",
        "    x=p.get_bbox().get_points()[:,0]\n",
        "    y=p.get_bbox().get_points()[1,1]\n",
        "    ax.annotate('{:.1f}%'.format(100.*y/ncount), (x.mean(), y),ha='center', va='bottom')\n",
        "    "
      ],
      "metadata": {
        "id": "rC3h7JsYU4-J"
      },
      "execution_count": null,
      "outputs": []
    },
    {
      "cell_type": "code",
      "source": [
        "#FREQUENCY COUNT\n",
        "import matplotlib.ticker as ticker\n",
        "ncount=len(final)\n",
        "plt.figure(figsize=(25,8))\n",
        "ax = sns.countplot(x=\"Primary_applicant_age_in_years\", data=final)\n",
        "ax2=ax.twinx()\n",
        "ax2.yaxis.tick_left()\n",
        "ax.yaxis.tick_right()\n",
        "ax2.set_ylabel('Frequency [%]')\n",
        "for p in ax.patches:\n",
        "    x=p.get_bbox().get_points()[:,0]\n",
        "    y=p.get_bbox().get_points()[1,1]\n",
        "    ax.annotate('{:.1f}%'.format(100.*y/ncount), (x.mean(), y),ha='center', va='bottom')"
      ],
      "metadata": {
        "id": "0Pv_-E8s1MWT"
      },
      "execution_count": null,
      "outputs": []
    },
    {
      "cell_type": "code",
      "source": [
        "#FREQUENCY COUNT\n",
        "import matplotlib.ticker as ticker\n",
        "ncount=len(final)\n",
        "plt.figure(figsize=(25,8))\n",
        "ax = sns.countplot(x=\"Number_of_existing_loans_at_this_bank\", data=final)\n",
        "ax2=ax.twinx()\n",
        "ax2.yaxis.tick_left()\n",
        "ax.yaxis.tick_right()\n",
        "ax2.set_ylabel('Frequency [%]')\n",
        "for p in ax.patches:\n",
        "    x=p.get_bbox().get_points()[:,0]\n",
        "    y=p.get_bbox().get_points()[1,1]\n",
        "    ax.annotate('{:.1f}%'.format(100.*y/ncount), (x.mean(), y),ha='center', va='bottom')"
      ],
      "metadata": {
        "id": "e8k_vLbn2UJs"
      },
      "execution_count": null,
      "outputs": []
    },
    {
      "cell_type": "code",
      "source": [
        "pip install plotly"
      ],
      "metadata": {
        "id": "haQcPj9lkNnd"
      },
      "execution_count": null,
      "outputs": []
    },
    {
      "cell_type": "code",
      "source": [
        "sns.countplot(final[\"high_risk_applicant\"], palette='CMRmap')\n",
        "plt.title(\"high_risk_applicant\",fontsize=10)\n",
        "plt.show()"
      ],
      "metadata": {
        "id": "_e9CuzokkXAE"
      },
      "execution_count": null,
      "outputs": []
    },
    {
      "cell_type": "code",
      "source": [
        ""
      ],
      "metadata": {
        "id": "9mFsD8ZkHth_"
      },
      "execution_count": null,
      "outputs": []
    },
    {
      "cell_type": "code",
      "source": [
        "#Scatterplot matrix\n",
        "import plotly.express as px\n",
        "df = final\n",
        "fig = px.scatter_matrix(df,\n",
        "    dimensions=[\"Principal_loan_amount\", \"Primary_applicant_age_in_years\",\"Months_loan_taken_for\"],\n",
        "    color=\"high_risk_applicant\",height=900)\n",
        "fig.show()"
      ],
      "metadata": {
        "id": "DGvKSoEBj5XX"
      },
      "execution_count": null,
      "outputs": []
    },
    {
      "cell_type": "code",
      "source": [
        "#Removing outliers\n",
        "final= final[final[\"Principal_loan_amount\"]<=160]\n",
        "final= final[final[\"Months_loan_taken_for\"]<=70]"
      ],
      "metadata": {
        "id": "fLYvcWAmuqqf"
      },
      "execution_count": null,
      "outputs": []
    },
    {
      "cell_type": "code",
      "source": [
        "#Scatterplot matrix\n",
        "import plotly.express as px\n",
        "df = final\n",
        "fig = px.scatter_matrix(df,\n",
        "    dimensions=[\"Principal_loan_amount\", \"Primary_applicant_age_in_years\",\"Months_loan_taken_for\",\"Loan_history\"],\n",
        "    color=\"high_risk_applicant\",height=900)\n",
        "fig.show()"
      ],
      "metadata": {
        "id": "mrzyNZK1vSs4"
      },
      "execution_count": null,
      "outputs": []
    },
    {
      "cell_type": "code",
      "source": [
        "data=final\n",
        "fig = px.box(data, x=\"Employment_status\", y=\"Primary_applicant_age_in_years\", color=\"high_risk_applicant\",\n",
        "color_discrete_sequence=px.colors.qualitative.Dark24,\n",
        "labels={col:col.replace('_', ' ') for col in data.columns},\n",
        "category_orders={\"Employment_status\":[\"unemployed / unskilled - non-resident\",\"management / self-employed / highly qualified employee / officer\",\"unskilled - resident\",\"skilled employee / official\"]})\n",
        "fig.update_layout(legend=dict(orientation=\"h\", yanchor=\"bottom\",\n",
        "y=1.02, xanchor=\"right\", x=1))\n",
        "fig.show()"
      ],
      "metadata": {
        "id": "XbZLptSBvcwl"
      },
      "execution_count": null,
      "outputs": []
    },
    {
      "cell_type": "code",
      "source": [
        "data=final\n",
        "fig = px.box(data, x=\"Employment_status\", y=\"Primary_applicant_age_in_years\", color=\"high_risk_applicant\",\n",
        "color_discrete_sequence=px.colors.qualitative.Dark24,\n",
        "labels={col:col.replace('_', ' ') for col in data.columns},\n",
        "category_orders={\"Employment_status\":[\"unemployed / unskilled - non-resident\",\"management / self-employed / highly qualified employee / officer\",\"unskilled - resident\",\"skilled employee / official\"]})\n",
        "fig.update_layout(legend=dict(orientation=\"h\", yanchor=\"bottom\",\n",
        "y=1.02, xanchor=\"right\", x=1))\n",
        "fig.show()"
      ],
      "metadata": {
        "id": "MCQBFDH6YQAe"
      },
      "execution_count": null,
      "outputs": []
    },
    {
      "cell_type": "code",
      "source": [
        "data=final\n",
        "fig = px.box(data, x=\"high_risk_applicant\", y=\"Number_of_existing_loans_at_this_bank\", color=\"high_risk_applicant\",\n",
        "color_discrete_sequence=px.colors.qualitative.Dark24,\n",
        "labels={col:col.replace('_', ' ') for col in data.columns},\n",
        "category_orders={\"Number_of_existing_loans_at_this_bank\":[1,2,3,4]})\n",
        "fig.update_layout(legend=dict(orientation=\"h\", yanchor=\"bottom\",y=1.02, xanchor=\"right\", x=1))\n",
        "fig.show()"
      ],
      "metadata": {
        "id": "EmeeJWb120Uf"
      },
      "execution_count": null,
      "outputs": []
    },
    {
      "cell_type": "code",
      "source": [
        "import plotly.express as px\n",
        "fig = px.histogram(final, x=\"Number_of_existing_loans_at_this_bank\", y=\"Loan_history\", color=\"high_risk_applicant\")\n",
        "fig.show()"
      ],
      "metadata": {
        "id": "UqC1DvQa3ox-"
      },
      "execution_count": null,
      "outputs": []
    },
    {
      "cell_type": "code",
      "source": [
        "!pip install tabplot"
      ],
      "metadata": {
        "id": "G4RUUz8mnVdf"
      },
      "execution_count": null,
      "outputs": []
    },
    {
      "cell_type": "code",
      "source": [
        "data=final\n",
        "fig = px.box(data, x=\"Gender\", y=\"Principal_loan_amount\", color=\"high_risk_applicant\",\n",
        "color_discrete_sequence=px.colors.qualitative.Dark24,\n",
        "labels={col:col.replace('_', ' ') for col in data.columns},\n",
        "category_orders={\"Gender\":[\"Male\",\"Female\"]})\n",
        "fig.update_layout(legend=dict(orientation=\"h\", yanchor=\"bottom\",\n",
        "y=1.02, xanchor=\"right\", x=1))\n",
        "fig.show()"
      ],
      "metadata": {
        "id": "tWjE9hm3H16f"
      },
      "execution_count": null,
      "outputs": []
    },
    {
      "cell_type": "code",
      "source": [
        "data=final\n",
        "fig = px.box(data, x=\"Loan_history\", y=\"Primary_applicant_age_in_years\", color=\"high_risk_applicant\",\n",
        "color_discrete_sequence=px.colors.qualitative.Dark24,\n",
        "labels={col:col.replace('_', ' ') for col in data.columns},\n",
        "category_orders={\"Loan_history\":['critical/pending loans at other banks',\n",
        "       'existing loans paid back duly till now',\n",
        "       'delay in paying off loans in the past',\n",
        "       'no loans taken/all loans paid back duly',\n",
        "       'all loans at this bank paid back duly']})\n",
        "fig.update_layout(legend=dict(orientation=\"h\", yanchor=\"bottom\",\n",
        "y=1.02, xanchor=\"right\", x=1))\n",
        "fig.show()"
      ],
      "metadata": {
        "id": "zdkyU5sw0LVu"
      },
      "execution_count": null,
      "outputs": []
    },
    {
      "cell_type": "code",
      "source": [
        "final.dtypes"
      ],
      "metadata": {
        "id": "-w4BUiWAP-1t"
      },
      "execution_count": null,
      "outputs": []
    },
    {
      "cell_type": "code",
      "source": [
        "fig = px.parallel_categories(final, color_continuous_scale=px.colors.sequential.RdBu, color=\"high_risk_applicant\",\n",
        "dimensions=[\"Purpose\",'Property','Other_EMI_plans','Loan_history','Gender','Marital_status','Housing','Employment_status','Has_been_employed_for_at_least','Has_been_employed_for_at_most','Telephone','Savings_account_balance','Balance_in_existing_bank_account_(lower_limit_of_bucket)','Balance_in_existing_bank_account_(upper_limit_of_bucket)'], labels={col:col.replace('_', ' ') for col in data.columns})\n",
        "fig.show()\n",
        "#[\"Purpose\",'Property','Other_EMI_plans','Loan_history','Gender','Marital_status','Housing','Employment_status','Has_been_employed_for_at_least','Has_been_employed_for_at_most','Telephone','Savings_account_balance','Balance_in_existing_bank_account_(lower_limit_of_bucket)','Balance_in_existing_bank_account_(upper_limit_of_bucket)']"
      ],
      "metadata": {
        "id": "kHfxiRyRQSnU"
      },
      "execution_count": null,
      "outputs": []
    },
    {
      "cell_type": "code",
      "source": [
        "#One hot encoding of categorical variables\n",
        "df = pd.get_dummies(data=final,columns=[\"Purpose\",'Property','Other_EMI_plans','Loan_history','Gender','Marital_status','Housing','Employment_status','Has_been_employed_for_at_least','Has_been_employed_for_at_most','Telephone','Savings_account_balance','Balance_in_existing_bank_account_(lower_limit_of_bucket)','Balance_in_existing_bank_account_(upper_limit_of_bucket)'])"
      ],
      "metadata": {
        "id": "f655oq2VZtk5"
      },
      "execution_count": null,
      "outputs": []
    },
    {
      "cell_type": "code",
      "source": [
        "pip install -U scikit-learn"
      ],
      "metadata": {
        "id": "oe0ztHXfbWSY"
      },
      "execution_count": null,
      "outputs": []
    },
    {
      "cell_type": "code",
      "source": [
        "import sklearn\n",
        "print (sklearn.__version__)"
      ],
      "metadata": {
        "id": "74UermxAlMPC"
      },
      "execution_count": null,
      "outputs": []
    },
    {
      "cell_type": "code",
      "source": [
        "Y = df['high_risk_applicant']\n",
        "X = df.drop('high_risk_applicant',axis=1)\n",
        "x_train, x_test, y_train, y_test = sklearn.model_selection.train_test_split(X, Y, random_state=0, test_size=.20)"
      ],
      "metadata": {
        "id": "oYtHj-zwZ2NW"
      },
      "execution_count": null,
      "outputs": []
    },
    {
      "cell_type": "code",
      "source": [
        "from sklearn.metrics import classification_report\n",
        "def model_assess(model, name):\n",
        "  model.fit(x_train, y_train)\n",
        "  preds = model.predict(x_test)\n",
        "  preds_proba = model.predict_proba(x_test)\n",
        "  print('                   ', name, '\\n',classification_report(y_test, model.predict(x_test)))\n",
        "from sklearn.neighbors import KNeighborsClassifier\n",
        "#KNN\n",
        "knn=KNeighborsClassifier(n_neighbors=151)\n",
        "model_assess(knn,'knn')\n",
        "from sklearn.linear_model import LogisticRegression\n",
        "#Logistic Regression\n",
        "lg = LogisticRegression(random_state=0)\n",
        "model_assess(lg, 'Logistic Regression')\n",
        "#XGB\n",
        "from xgboost import XGBClassifier\n",
        "xgb = XGBClassifier(n_estimators=1000, learning_rate=0.05)\n",
        "model_assess(xgb, 'XGBoost')\n"
      ],
      "metadata": {
        "id": "x7JMRCpXl-lJ"
      },
      "execution_count": null,
      "outputs": []
    },
    {
      "cell_type": "code",
      "source": [
        "\n",
        "#Feature importance plot\n",
        "from xgboost import plot_importance\n",
        "fig, (ax1,ax2) = plt.subplots(figsize = (100, 100), ncols=1, nrows=2)\n",
        "plt.subplots_adjust(left=0.125, right=0.9, bottom=0.1, top = 0.9, wspace=0, hspace = 0.5)\n",
        "plot_importance(xgb, importance_type='gain', ax = ax1)\n",
        "ax1.set_title('Feature Importance by Information Gain', fontsize = 18)\n",
        "ax1.set_xlabel('Gain')\n"
      ],
      "metadata": {
        "id": "7vGxlZQHXT9u"
      },
      "execution_count": null,
      "outputs": []
    },
    {
      "cell_type": "code",
      "source": [
        ""
      ],
      "metadata": {
        "id": "4xXSxYSpU0R4"
      },
      "execution_count": null,
      "outputs": []
    }
  ]
}